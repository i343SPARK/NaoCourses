{
 "cells": [
  {
   "cell_type": "markdown",
   "metadata": {},
   "source": [
    "![title](./images/logo_nao_digital.png)"
   ]
  },
  {
   "cell_type": "markdown",
   "metadata": {},
   "source": [
    "# 2 Conocimientos sobre mejores prácticas de prompt engineering\n",
    "\n",
    "## 1. Objetivo\n",
    "\n",
    "Tras exponer los principios de los modelos generativos de lenguaje, el equipo de *SmartMedia* realizó un segundo reporte interno de investigación con el objetivo de conocer los principios y técnicas para optimizar el diseño de prompt y con ello obtener mejores resultados a las preguntas de interés y que será un documento de apoyo para el proceso de prompt engineering."
   ]
  },
  {
   "cell_type": "markdown",
   "metadata": {},
   "source": [
    "# 2 Mejores prácticas en la construcción de prompts\n",
    "\n",
    "## 2.1 Estructura de los prompts\n",
    "\n",
    "Cómo hemos visto, los resultados de un prompt se ven fuertemente afectados por la información que se especifica en su estructura y las tareas con las que los modelos LLM pueden ayudarnos son amplias. En términos generales, podemos pensar que el diseño de un prompt puede contener los siguentes elementos:\n",
    "\n",
    "* **Instrucción:** tarea específica que queremos que el modelo nos ayude a llevar a cabo,\n",
    "* **Contexto:** se refiere a información externa o adicional que podemos añadir para que el modelo tenga mayores elementos para darnos una respuesta adecuada,\n",
    "* **Datos de entrada:** se refiere a la pregunta de entrada en la que queremos encontrar una respuesta,\n",
    "* **Formato de salida:** se refiere a la forma en la que esperamos la respuesta, por ejemplo a través de inciso, listas, párrafos de cierto longitud y demás.\n",
    "\n",
    "Cabe destacar que los elementos anteriores son opcionales en el diseño de un prompt, pero son una buena estructura a seguir para obtener respuestas más informativas a nuestras preguntas."
   ]
  },
  {
   "cell_type": "markdown",
   "metadata": {},
   "source": [
    "## 2.2 Principios generales a seguir en el diseño de Prompts\n",
    "\n",
    "A continuación se resumen algunos de los principios de diseño recomendados por empresas como [OpenAI](https://help.openai.com/en/articles/6654000-best-practices-for-prompt-engineering-with-openai-api#h_1951f30f08)\n",
    " y [DeepLearning.ai](https://www.deeplearning.ai/short-courses/chatgpt-prompt-engineering-for-developers/)\n"
   ]
  },
  {
   "cell_type": "markdown",
   "metadata": {},
   "source": [
    "a) Colocar instrucciones al inicio del prompt.\n",
    "\n",
    "**Menos efectivo** ❌\n",
    "```\n",
    "Quiero que analices el texto: {... algún texto ...}.\n",
    "Crea un resumen a partir del mismo.\n",
    "```\n",
    "\n",
    "**Mejor** ✅:\n",
    "```\n",
    "Resume el texto a continuación:\n",
    "\n",
    "Texto: \"\"\"\n",
    "{... algún texto ...}\n",
    "\"\"\""
   ]
  },
  {
   "cell_type": "markdown",
   "metadata": {},
   "source": [
    "\n",
    "b) Usar signos específicos para establecer una separación entre las instrucciones y el contexto del prompt.\n",
    "\n",
    "**Menos efectivo** ❌\n",
    "```\n",
    "Resume el texto a continuación como una lista de incisos de los puntos más importantes.\n",
    "\n",
    "{... algún texto ...}\n",
    "```\n",
    "\n",
    "**Mejor** ✅:\n",
    "```\n",
    "Resume el texto a continuación como una lista de incisos de los puntos más importantes.\n",
    "\n",
    "Texto: \"\"\"\n",
    "{... algún texto ...}\n",
    "\"\"\"\n",
    "```"
   ]
  },
  {
   "cell_type": "markdown",
   "metadata": {},
   "source": [
    "c) Ser específicos y descriptivos acerca de\n",
    " * contexto, \n",
    " * tipo de formato y la longitud su texto de salida que se espera, \n",
    " * el estilo en que se desea recibir la información, y \n",
    " * toda los detalles relevantes para resolver el problema.\n",
    "\n",
    "**Menos efectivo** ❌\n",
    "```\n",
    "Crea un texto sobre inteligencia artificial. \n",
    "```\n",
    "\n",
    "**Mejor** ✅:\n",
    "```\n",
    "Escribe un texto de dos párrafos acerca de la importancia de la inteligencia artificial en el desarollo de la tecnología en los últimos 20 años. La redacción del texto deberá seguir un estilo informal y entendible para un público sin conocimientos tecnológicos.\n",
    "```"
   ]
  },
  {
   "cell_type": "markdown",
   "metadata": {},
   "source": [
    "d) Si se desea obtener un formato de salida específico, este se puede especificar a través del nombre de la extension deseada (JSON, CSV, HTML y demás) o bien con ejemplos de como se espera recibir.\n",
    "\n",
    "**Menos efectivo** ❌\n",
    "```\n",
    "Inventa equipos de beisbol con sus nombres, apodos, estados donde se ubican y cantidad de títulos ganados. \n",
    "```\n",
    "\n",
    "**Mejor** ✅:\n",
    "```\n",
    "Genera una lista de tres equipos de baseball inventados junto con sus nombres, apodos, estados donde se ubican y cantidad de títulos ganados.\n",
    "Proporciónalos en formato JSON con las siguiente estructura: \n",
    "team_id, name, nickname, num_titles.\n",
    "```"
   ]
  },
  {
   "cell_type": "markdown",
   "metadata": {},
   "source": [
    "e) Usar descripciones precisas en el diseño del prompt, evitando terminos vagos e imprecisos:\n",
    "\n",
    "**Menos efectivo** ❌\n",
    "```\n",
    "Crea un resumen corto del siguiente texto: \n",
    "```\n",
    "\n",
    "**Mejor** ✅:\n",
    "```\n",
    "Crea un resumen de 50 palabras del siguiente texto: \n",
    "```\n"
   ]
  },
  {
   "cell_type": "markdown",
   "metadata": {},
   "source": [
    "f) En lugar de solo decir qué no hacer, mejor especificar que si se debe hacer en su lugar.\n",
    "\n",
    "**Menos efectivo** ❌\n",
    "```\n",
    "Crea un texto sobre inteligencia artificial que no sea demasiado largo.\n",
    "```\n",
    "\n",
    "**Mejor** ✅:\n",
    "```\n",
    "Crea un texto sobre inteligencia artificial usando con un máximo de 5 párrafos de largo.\n",
    "```"
   ]
  },
  {
   "cell_type": "markdown",
   "metadata": {},
   "source": [
    "g) Espeficia uno por uno a los pasos necesarias para llevar a cabo una tarea\n",
    "\n",
    "**Menos efectivo** ❌\n",
    "```\n",
    "Traduce un resumen el siguiente texto al ingles, francés y alemán, dando los resultados en una tabla:\n",
    "\n",
    "Texto:\n",
    "\"\"\"{... algun texto..}\"\"\"\n",
    "```\n",
    "\n",
    "**Mejor** ✅:\n",
    "```\n",
    "Realiza las siguientes acciones:\n",
    "\n",
    "A. Crea un resumen del siguiente texto delimitado por comillas.\n",
    "B. Crea una traducción del texto resumido a los idiomas ingles, francés y alemán,\n",
    "C. Crea una tabla en formato CSV, en donde una columna tenga el idioma de la traducción realizada y la otra tenga el texto traducido. Esta deberá tener los nombres translation_idiom y traslated_text para cada uno de los campos descritos.\n",
    "\n",
    "Texto:\n",
    "\"\"\"{... algun texto..}\"\"\"\n",
    "```"
   ]
  },
  {
   "cell_type": "markdown",
   "metadata": {},
   "source": [
    "h) Pidele al modelo que revise si ciertas condiciones se cumplen para generar un resultado.\n",
    "\n",
    "**Menos efectivo** ❌\n",
    "```\n",
    "Dime si el siguiente texto corresponde a un conjunto instrucciones:\n",
    "\n",
    "¡Hacer una taza de té es fácil! Primero, necesitas conseguir algo de agua hirviendo. \n",
    "Mientras eso sucede, toma una taza y pon una bolsa de té en ella.\n",
    "Una vez que el agua está lo suficientemente caliente, solo viértelo sobre la bolsita de té.\n",
    "Déjalo reposar un poco para que el té se remoje. Después de unos minutos, saca la bolsita de té.\n",
    "Ahora la taza de té está lista para disfrutar.\n",
    "```\n",
    "\n",
    "**Mejor** ✅:\n",
    "```\n",
    "Se le proporcionará texto delimitado por comillas triples. Si éste contiene una secuencia de instrucciones, vuelva a escribir esas instrucciones en el siguiente formato:\n",
    "\n",
    "Paso 1 - ...\n",
    "\n",
    "Paso 2 - ...\n",
    "\n",
    "...\n",
    "\n",
    "Paso N - ...\n",
    "\n",
    "Si el texto no contiene una secuencia de instrucciones, entonces simplemente escriba \"No se proporcionan pasos.\"\n",
    "\n",
    "Texto:\n",
    "\"\"\"¡Hacer una taza de té es fácil! Primero, necesitas conseguir algo de agua hirviendo. \n",
    "Mientras eso sucede, toma una taza y pon una bolsa de té en ella.\n",
    "Una vez que el agua está lo suficientemente caliente, solo viértelo sobre la bolsita de té.\n",
    "Déjalo reposar un poco para que el té se remoje. Después de unos minutos, saca la bolsita de té.\n",
    "Ahora la taza de té está lista para disfrutar.\"\"\"\n",
    "```"
   ]
  },
  {
   "cell_type": "markdown",
   "metadata": {},
   "source": [
    "## 2.3 Técnicas avanzadas en Prompt Engineering I\n",
    "\n",
    "A continuación se resumen algunas de las técnicas y metodologías recomendadas en el diseño óptimos de prompts para obtener resultados más informativos.\n",
    "\n",
    "A. **Zero Shot Prompting:** ésta técnica se refiere a que un modelo puuede generar una respuesta adecuada cuando no se le provee un prompt que no necesariamente fue parte de su conjunto de entrenamiento. En el siguiente ejemplo se logra una clasificación del sentimiento de una oración que fue inventada al redactar el presente reporte:\n",
    "\n",
    "*Prompt Ejemplo*\n",
    "```\n",
    "Clasifica el texto en positivo, neutral o negativo:\n",
    "\n",
    "Texto: La inteligencia artificial tiene beneficios potenciales para el desarrollo humano.\n",
    "\n",
    "Clasificación:\n",
    "```"
   ]
  },
  {
   "cell_type": "markdown",
   "metadata": {},
   "source": [
    "B. **Few Shot Prompting:** ésta técnica se refiere a que el modelo es guiado a una respuesta a partir de ejemplos, sin necesariamente proveer una instrucción explícita de la acción que debe realizar. \n",
    "Veamos esto con el siguiente ejemplo:\n",
    "\n",
    "*Prompt Ejemplo*\n",
    "```\n",
    "Texto: La bebida de naranja es sensacional\n",
    "\n",
    "Clasificación: Positivo\n",
    "\n",
    "Texto: Los gatos son animales pequeños.\n",
    "\n",
    "Clasificación: Neutro\n",
    "\n",
    "Texto: La actitud del comentarista es nefasta\n",
    "\n",
    "Clasificación: Negativo\n",
    "\n",
    "Texto: La lista de reproducción del gimnasio hoy fue terrible\n",
    "\n",
    "Clasificación:\n",
    "```"
   ]
  },
  {
   "cell_type": "markdown",
   "metadata": {},
   "source": [
    "C. **Role Prompting:** ésta técnica se refiere a que le especifiquemos al modelo que actue como una persona con ciertas capacidades de interés para el problema que queremos resolver. Este tipo de técnica es útil para recibir retroalimentación por ejemplo de áreas especializadas sobre un texto en redacción, por ejemplo código con errores, guía tecnica o críticas y mejoras en redacciones o bien para recibir lluvias de ideas.\n",
    "\n",
    "*Prompt Ejemplo*\n",
    "```\n",
    "Actua como un experto en temas de inteligencia artificial y en divulgación científica.\n",
    "Explícame como funciona un red neuronal.\n",
    "```"
   ]
  },
  {
   "cell_type": "markdown",
   "metadata": {},
   "source": [
    "D. **Iterative Prompting:** se refiere a perfeccionar los resultados de experimentación en el diseños de los prompts, para 1) probar una idea de prompt, 2) analizar los resultados, 3) corregir los posibles errores y rediseñar los prompts para corregir los posibles errores que el modelo haya tenido, indicandole como corregirlos o estableciendo nuevas restricciones a las tareas, formatos o mayor amplitud en nuestras descripciones.\n",
    "\n",
    "La iteración puede optimizar los resultados, pero usualmente requiere cierto nivel de expertise en técnicas de prompt engineering e invertir grandes cantidades de tiempo hasta obtener resultados satisfactorios.\n",
    "\n",
    "**Figura 1: Iterative prompting**\n",
    "\n",
    "![title](./images/iterative_prompting.png)"
   ]
  },
  {
   "cell_type": "markdown",
   "metadata": {},
   "source": [
    "## 2.4 Técnicas avanzadas en Prompt Engineering II\n",
    "\n",
    "En esta segunda parte se resumen algunas técnicas más avanzadas de prompt engineerig."
   ]
  },
  {
   "cell_type": "markdown",
   "metadata": {},
   "source": [
    "E. **Chain-of-Thought:** ésta técnica se refiere, a alto nivel, a presentar ejemplos en el prompt, de una forma similar a como se hace en *Few Shots Prompting*, en los cuales se presente un razonamiento de inferencia para que el modelo pueda inferir del mismo y con ello extrapolar el proceso a nuevos output.\n",
    "\n",
    "**Figura 2: Chain-of-Thought**\n",
    "\n",
    "![title](./images/cot.png)\n",
    "\n",
    "Para mayor referencia consultar el artículo [J. Wei et al. *Chain-of-Thought Prompting Elicits Reasoning in Large Language Models*. CoRR.abs/2201.11903. 2023](https://arxiv.org/abs/2201.11903)"
   ]
  },
  {
   "cell_type": "markdown",
   "metadata": {},
   "source": [
    "E. **Self-Consistency:** Es un enfoque que simplemente le pide a un modelo el mismo aviso varias veces y toma el resultado que se repite con mayor volumen como la respuesta final\n",
    "**Figura 3: Self-Consistency**\n",
    "\n",
    "![title](./images/self_consistency.png)\n",
    "\n",
    "Para mayor referencia consultar el artículo [X. Wang et al. *Self-Consistency Improves Chain of Thought Reasoning in Language Models*. arXiv. pre-print. 2022](https://arxiv.org/abs/2201.11903)"
   ]
  },
  {
   "cell_type": "markdown",
   "metadata": {},
   "source": [
    "E. **Generated-Knowledge:** en esencia trata de incluir una serie de ejemplos donde hay un \"razonamiento\" para extraer conocimiento de determinadas situaciones, de forma que el modelo pueda abstraer este proceso par contestar preguntas complejas basadas en dicho generación de conocomiento nuevas.\n",
    "\n",
    "**Figura 4: Generated-Knowledge**\n",
    "\n",
    "![title](./images/generated_knowledge.png)\n",
    "\n",
    "Se recomienda consultar el artículo [J. Liu et al. *Generated Knowledge Prompting for Commonsense Reasoning*. arXiv. 2110.08387v3. 2022](https://arxiv.org/abs/2201.11903)"
   ]
  },
  {
   "cell_type": "markdown",
   "metadata": {},
   "source": [
    "E. **Otras técnicas:** Dado que los modelos LLM son de introducción reciente, la forma de mejorar los prompts es un campo activo de investigación actualmente y muchas técnicas se continuan desarrollando al día de hoy. Dos artículos que reflejan el estado del arte al respecto son 1) [J. White. *A Prompt Pattern Catalog to Enhance Prompt Engineering with ChatGPT*. arXiv. pre-print. 2023.](https://arxiv.org/abs/2302.11382), y [J. Kaddour et. al. (2023). Challenges and Applications of Large Language Models. arXiv:2307.10169](https://arxiv.org/abs/2307.10169)"
   ]
  },
  {
   "cell_type": "markdown",
   "metadata": {},
   "source": [
    "## 3. Entregables\n",
    "\n",
    "En esta sección se describen los entregables de la segunda etapa quue consisten en un script de conversación entre el usuario y el ChatBot basado en un LLM, o bien el script de conversación y captura de pantalla de la imagen generada en un archivo en formato específico. Para ello se deberán emplear aplicaciones que usen modelos generativos como ChatGPT, Bard o DALL-E según corresponda\n",
    "\n",
    "Al respecto del caso de prueba de *SmartMedia*:\n",
    "\n",
    "**Texto a Texto**\n",
    "\n",
    "A. Diseña scripts de texto con prompts que permitan conocer:\n",
    "\n",
    "    1) una lista de todos los equipos de baseball de los estados unidos, considerando el nombre del equipo, el apodo del mismo, año de fundación y el nombre de sus respectivas mascotas. En caso que de no se pueda determinar alguno de estar valor, se deberá usar el valor \"desconocido\" para indicarlo.\n",
    "   \n",
    "    2) se deberá proporcionar lo anterior como output del prompt el un formato .csv, es decir, el resultado del prompt que genere dicha tabla se deberá salvar en un archivo de texto y salvar con el formato baseball_usa_pets.csv, con el nombre correspondiente de cada columna. \n",
    "\n",
    "B. Diseña scripts de texto con prompts que permitan, desde el punto de vista de un experto en marketing para equipos deportivos profesionales, saber:\n",
    "\n",
    "    1) ¿cuáles son los puntos en que los accionistas se deberían enfocar para emprender el relanzamiento de la imagen del equipo de los osos de Montana?,\n",
    "   \n",
    "    2) La lista de acciones concretas que se recomienda, según el experto, para relanzar la marca considerando considerando que se quiere volver a apuntarlas la presenciar del club medios digitales que se estimen relevantes,\n",
    "\n",
    "    3) En complemento, se deberá incluir una lista de 15 nuevos slogan para asociar con la mascota Monty, incentivando la imagen de la familia, el compañerismo, la fraternidad y evitando menciones a temas polémicos como uso de alcohol y otras drogas. Tales slogan pueden estar inspirados en los de otros equipos de baseball u otros deportes colectivos, además estar traducidos al inglés, español, francés y alemán, que son las lenguas principales de los fanáticos del equipo.\n",
    "\n",
    "En cada caso, el script de conversación, junto con los outputs de cada chatbot deberá guardarse en un archivo .txt con el formato (conversacion_i.txt donde i es la letra de inciso asociado). Adicionalmente se deberá adjuntar capturar de pantalla en formato .png donde se aprecia el cuerpo de las conversaciones generadas por los ChatBots, se pueden usar numeraciones sucesivas sin son muchas fotos, ejemplo: evidencia_1_conversacion_i.png, evidencia_2_conversacion_i.png, ..., evidencia_5_conversacion_i.png\n"
   ]
  }
 ],
 "metadata": {
  "kernelspec": {
   "display_name": "aument_conda_1",
   "language": "python",
   "name": "python3"
  },
  "language_info": {
   "name": "python",
   "version": "3.10.9"
  },
  "orig_nbformat": 4
 },
 "nbformat": 4,
 "nbformat_minor": 2
}

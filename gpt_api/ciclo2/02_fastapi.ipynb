{
 "cells": [
  {
   "cell_type": "markdown",
   "metadata": {},
   "source": [
    "![title](./images/logo_nao_digital.png)"
   ]
  },
  {
   "cell_type": "markdown",
   "metadata": {},
   "source": [
    "# 1 Implementación de API con FastAPI\n",
    "\n",
    "## 1. Objetivo\n",
    "\n",
    "El presente reporte tiene por objeto introducir básicos sobre la librería de Python FastAPI para ayudarnos en la construcción de API que nos permitan intercambiar datos entre clientes y servidores de manera eficiente. Ello con el propósito de ayudarnos en el proceso de desarrollo de la API ligada a ChatGPT que la Universidad de Cuévano quiere consolidar."
   ]
  },
  {
   "cell_type": "markdown",
   "metadata": {},
   "source": [
    "## 2. Elementos de FastAPI\n",
    "\n",
    "### 2.1 ¿Qué es FastAPI?\n",
    "\n",
    "Cuando diseñamos sistemas que deben interactuar con el público a través de Internet, es necesario tener que adoptar algún framework de desarrollo web (en código) ya que éstos permiten crear una experiencias fáciles de usar para intercambiar información, que además de ser fáciles de implementar sean a su vez escalables.\n",
    "\n",
    "En Python existen varios framework de desarrollo web, entre ellos **FastAPI** (https://fastapi.tiangolo.com/es/) el cual es es un web framework moderno, rápido y de alto rendimiento para construir APIs (del tipo API REST, ver https://www.geeksforgeeks.org/rest-api-introduction/). De acuerdo a los creadores de FastAPI, sus características principales son:\n",
    "\n",
    "* **Rapidez:** Alto rendimiento, a la par de otros framework populars como NodeJS y Go.\n",
    "* **Rápido de programar:** Incrementa la velocidad de desarrollo entre 200% y 300%.\n",
    "* **Menos errores:** Reduce los errores humanos (de programador) aproximadamente un 40%. \n",
    "* **Intuitivo:** Gran soporte en los editores con auto completado en todas partes. Gasta menos tiempo debugging.\n",
    "* **Fácil:** Está diseñado para ser fácil de usar y aprender. Gastando menos tiempo leyendo documentación.\n",
    "* **Corto:** Minimiza la duplicación de código. Múltiples funcionalidades con cada declaración de parámetros. Menos errores.\n",
    "* **Robusto:** Crea código listo para producción con documentación automática interactiva.\n",
    "* **Basado en estándares:** Basado y totalmente compatible con los estándares abiertos para APIs: OpenAPI (conocido previamente como Swagger) y JSON Schema.\n",
    "\n",
    "Además, uno de los puntos que le dan valor agregado al construir API's mediante éste framework es que se puede crear documentación interactiva del API y la interfaces web de exploración basadas, por ejemplo, en [Swagger](https://github.com/swagger-api/swagger-ui) o [ReDoc](https://github.com/Redocly/redoc)\n"
   ]
  },
  {
   "cell_type": "markdown",
   "metadata": {},
   "source": [
    "Para su instalación (ver https://fastapi.tiangolo.com/es/tutorial/) podemos emplear el siguiente comando:\n",
    "\n",
    "```\n",
    "pip install fastapi[all]\n",
    "```"
   ]
  },
  {
   "cell_type": "markdown",
   "metadata": {},
   "source": [
    "# 2.2 ¿Cómo estructuramos un API con FastAPI?\n",
    "\n",
    "Cuando contruimos APIs, normalmente especificamos métodos HTTP que permiten la transmisión de datos entre un cliente y un servidor web para ejecutar una acción de entre las que destacan:\n",
    "\n",
    "* `POST:` para creación de datos,\n",
    "* `GET:` permite leer datos,\n",
    "* `PUT:` nos deja hacer actualizaciones de datos,\n",
    "* `DELETE:` para eliminar datos\n",
    "\n",
    "Para ello, debemos instanciar la clase FastAPI() para crear una aplicación (por ejemplo `app = FastAPI()`) y definir la acción correspondiente con la estrucutura:\n",
    "\n",
    "```\n",
    "# definiendo una accion get\n",
    "@app.get(RUTA, ...)\n",
    "asyn def my_action_1():\n",
    "    ...\n",
    "    return 'Do something No. 1'\n",
    "\n",
    "# definiendo una accion post\n",
    "@app.post(RUTA, ...)\n",
    "asyn def my_action_2():\n",
    "    ...\n",
    "    return 'Do something No. 2'\n",
    "\n",
    "# definiendo una accion put\n",
    "@app.put(RUTA, ...)\n",
    "asyn def my_action_3():\n",
    "    ...\n",
    "    return 'Do something No. 3'\n",
    "\n",
    "# definiendo una accion delete\n",
    "@app.delete(RUTA, ...)\n",
    "asyn def my_action_4():\n",
    "    ...\n",
    "    return 'Do something No. 4'\n",
    "```\n",
    "\n",
    "En esta caso al ruta `RUTA` no es más que la especificación del destino en donde queremos organizar las acciones, siempre indicados por guiones inclinados, como la ruta raíz (`/`), o rutas más personalizada (`/usuarios` o `/directorio/subdirectorio/otrodirectorio`). Tales se deben sumar a la dirección y puerto en donde se monta la aplicación, por default fastapi hacer el despligue de aplicaciones en el *localhost*: `http://127.0.0.1:8000/`\n",
    "\n"
   ]
  },
  {
   "cell_type": "markdown",
   "metadata": {},
   "source": [
    "## Ejemplos\n",
    "\n",
    "### Ejemplo 1: Primer API\n",
    "\n",
    "Este primer ejemplo corresponde al archivo `api_example_1.py`. Esencialmente se trata de un API sencilla que define un método `GET` sobre la ruta raiz (`/`):\n",
    "\n",
    "```\n",
    "from fastapi import FastAPI\n",
    "\n",
    "# Crea una aplicacion de FastAPI\n",
    "app = FastAPI()\n",
    "\n",
    "# Define la ruta raiz (root) que devuelve un diccionario\n",
    "# junto con un mensaje de bievenida\n",
    "@app.get(\"/\")\n",
    "async def root():\n",
    "    \"\"\"\n",
    "    Ruta raiz\n",
    "    \"\"\"\n",
    "    return {\"mensaje\": \"Hola :)! Soy tu primer ejemplo en FastAPI\"}\n",
    "```\n",
    "\n",
    "Para activarlo, usaremos la siguiente instrucción en la terminal:\n",
    "\n",
    "```\n",
    "uvicorn nombre_del_script:nombre_aplicacion --reload   \n",
    "```\n",
    "**Nota:** Ésta forma de activar el servicio web permite hacer cambios en el archivo del programa en Python y verlos reflejados inmediatamente, para no tener que repetir el proceso, es decri desactivar y activar tras hacer un cambio.\n",
    "\n",
    "En el caso de nuestro ejemplo, la instrucción anterior se traduce en:\n",
    "\n",
    "```\n",
    "uvicorn api_example_1:app --reload    \n",
    "```\n",
    "\n",
    "**Nota:** Para desactivarlo podremos usar la combinación de teclas **CTRL + C** o cerrar nuestra terminal.\n",
    "\n",
    "\n",
    "Esto echará a andar la aplicación y con cualquier navegador de nuestra computadora podremos acceder la ruta http://127.0.0.1:8000/, donde veremos el mensaje desplegado:\n",
    "\n",
    "![title](./images/fastapi_1.png)"
   ]
  },
  {
   "cell_type": "markdown",
   "metadata": {},
   "source": [
    "Otra forma de revisar lo anterior es realizar una petición del tipo `GET\\ en la ruta `http://127.0.0.1:8000` usando el paquete requests de Python. Para ello bastará instalar\n",
    "\n",
    "```\n",
    "pip install requests\n",
    "```\n",
    "\n",
    "Ejecutar el siguiente código **mientras la aplicación esté activa**:"
   ]
  },
  {
   "cell_type": "code",
   "execution_count": 11,
   "metadata": {},
   "outputs": [
    {
     "name": "stdout",
     "output_type": "stream",
     "text": [
      "Codigo de estatus de respuesta: 200\n",
      "Texto de respuesta: {\"mensaje\":\"Hola :)! Soy tu primer ejemplo en FastAPI\"}\n"
     ]
    }
   ],
   "source": [
    "import requests\n",
    "\n",
    "# Ruta de la aplicación\n",
    "PATH = 'http://127.0.0.1:8000'\n",
    "\n",
    "# Realiza la petición GET a la ruta\n",
    "response = requests.get(PATH)\n",
    "\n",
    "print(\"Codigo de estatus de respuesta:\", response.status_code)\n",
    "print(\"Texto de respuesta:\", response.text)"
   ]
  },
  {
   "cell_type": "markdown",
   "metadata": {},
   "source": [
    "Aquí también conviene notar que de forma automática se han creado rutas que nos permite acceder a la documentación del API:\n",
    "\n",
    "* Documentación de Swagger: http://127.0.0.1:8000/docs\n",
    "* Documentación de Redocs: http://127.0.0.1:8000/redoc\n",
    "\n",
    "**Figura X: Documentación de Swagger**\n",
    "![title](./images/fastapi_1_swagger.png)\n"
   ]
  },
  {
   "cell_type": "markdown",
   "metadata": {},
   "source": [
    "### Ejemplo 2: Definiendo rutas más complejas"
   ]
  },
  {
   "cell_type": "markdown",
   "metadata": {},
   "source": [
    "Podemos definir estructuras de intercambio de información con mayor complejidad en FastAPI ampliando un poco el código del ejemplo previo. De hecho, en el archivo `api_example_2.py` se realiza lo siguiente:\n",
    "\n",
    "A. Lee un saludo estático para los estudiantes en la ruta `/student/gretings`. Ver https://fastapi.tiangolo.com/tutorial/first-steps/\n",
    "B. Lee saludo dinámico para los estudiantes basado en la ruta `/student/{student_id}` de acuerdo al parámetro entero `{student_id}`. Ver https://fastapi.tiangolo.com/tutorial/path-params/\n",
    "C. Lee la disponibilidad de un catalogos de libros por año y mes (en un diccionario) basado en parámetros de una función que permite ejecutar querys. Básicamente permite añadir a la ruta `/books/availability` una serie de parámetros que se emplean posteriormente para hacer una acción de lectura, concretamente en este caso se separa por el signo `?`, por ejemplo para consulta la disponibildad del catálogo de libros del año 2021 y mes se consulta `/books/availability?year=2021&month=2`."
   ]
  },
  {
   "cell_type": "markdown",
   "metadata": {},
   "source": [
    "```\n",
    "from fastapi import FastAPI\n",
    "\n",
    "\n",
    "# Crea una aplicacion de FastAPI\n",
    "app = FastAPI()\n",
    "\n",
    "# Ruta de saludo (estatica)\n",
    "@app.get(\"/student/grettings\")\n",
    "async def read_grettings() -> str:\n",
    "    \"\"\"\n",
    "    Ruta de saludos\n",
    "    \"\"\"\n",
    "    return \"Bienvenido estudiante!!\"\n",
    "\n",
    "# Ruta de saludo (dinamica)\n",
    "@app.get(\"/student/{student_id}\")\n",
    "async def read_student_id(student_id: int) -> str:\n",
    "    return f\"Bienvenido estudiante numero {student_id}\"\n",
    "\n",
    "# Ruta de disponibilidad de catalogos de libros\n",
    "@app.get(\"/books/availability\")\n",
    "async def read_book_availability(year: str = '2023', month: str = '1') -> dict:\n",
    "    \"\"\"\n",
    "    Ruta que indica la disponibilidad de catalogos de libros\n",
    "    por mes y año\n",
    "    \"\"\"\n",
    "\n",
    "    # Diccionario de disponibilidad de catalogos de libros\n",
    "    books = {\n",
    "        '2022': {\n",
    "            '1': 'Not Available',\n",
    "            '2': 'Available',\n",
    "            '3': 'Available',\n",
    "            '4': 'Not Available',\n",
    "            '5': 'Available',\n",
    "            '6': 'Not Available',\n",
    "            '7': 'Available',\n",
    "            '8': 'Available',\n",
    "            '9': 'Available',\n",
    "            '10': 'Available',\n",
    "            '11': 'Available',\n",
    "            '12': 'Available',\n",
    "        },\n",
    "        '2023': {\n",
    "            '1': 'Not Available',\n",
    "            '2': 'Available',\n",
    "            '3': 'Available',\n",
    "            '4': 'Not Available',\n",
    "            '5': 'Available',\n",
    "            '6': 'Not Available',\n",
    "            '7': 'Available',\n",
    "            '8': 'Not Available',\n",
    "            '9': 'Not Available',\n",
    "            '10': 'Not Available',\n",
    "            '11': 'Not Available',\n",
    "            '12': ' NotAvailable',\n",
    "        },\n",
    "    }\n",
    "\n",
    "    # Consulta el estatus por año y mes\n",
    "    status = books[year][month]\n",
    "\n",
    "    return {\"messages\": f\"Catalog for {year}-{month} is {status}\"}\n",
    "```"
   ]
  },
  {
   "cell_type": "markdown",
   "metadata": {},
   "source": [
    "**Preguntas**\n",
    "Activa la aplicación anterior y contesta lo siguiente usando cURL, postman o request:\n",
    "\n",
    "    * ¿Qué sucede si se realizan las acciones `GET /student/10201` y `GET /student/peterparker`?\n",
    "    * R: Lo que sucede cuando usamos \"10201\" es que retorna la funcion con el mensaje y el numero o id puesto. Mientras tanto cuando se usa \"peterparker\" simplemente regresa un error por no ser del tipo de variable correcto\n",
    "      * Consulta https://fastapi.tiangolo.com/tutorial/path-params/#path-parameters-with-types para platear tu respuesta.\n",
    "    * Realiza consulta `GET` para conocer el estatus del catálogo de libros para mayo de 2022 y diciembre de 2023 ¿Cuál es el estatus de cada uno?\n",
    "    * R: Para el 5 Mayo del 2022 si hay disponibilidad y para diciembre de 2023 no hay disponibilidad\n",
    "      * ¿qué sucede si intentas consultar el estatus de un mes en 2024?, ¿cómo se podría solventar dicha situacón?\n",
    "      * R: Retorna un error del servidor, lo que se puede hacer es crear una excepción del tipo 404 para indicar datos inexistentes\n",
    "    * Desde tu navegador consulta la documentación de Swagger (http://127.0.0.1:8000/docs) y Redocs (http://127.0.0.1:8000/redoc)\n",
    "      * ¿Qué elementos nuevos se encuentran en ambas secciones de documentación?\n",
    "      * R: Se encuentran los endpoints de cada ruta y la descripción de cada uno\n",
    "      * ¿Cómo puede ayudar lo anterior en el desarrollo del API?\n",
    "      * R: Puede ayudar a mantener un mejor perfomance de la API, y esto al momento de hacer pruebas o volver a leer el codigo, que sea mas sencillo\n"
   ]
  },
  {
   "cell_type": "markdown",
   "metadata": {},
   "source": [
    "### Ejemplo 3: Realizando acciones POST\n",
    "\n",
    "También se puede generar acciones tipo `POST` pasando comunicando datos a través del cuerpo de una petición. En el ejemplo `api_example_3.py`\n",
    "se muestra como definir un acción tipo de éste estilo para comunicar las calificaciones de los estudiantes y obtener su promedio. En este caso particular la idea es que la acción se acompañe de un Body Request con datos del nombre del estudiante y sus calificaciones para calcular el promedio, es decir del estilo\n",
    "\n",
    "```\n",
    "{\n",
    "    \"name\": \"\",\n",
    "    \"math_score\": 5,\n",
    "    \"literature_score\": 4.1,\n",
    "    \"chemistry_score\": 5,\n",
    "    \"geography_score\": 5\n",
    "}\n",
    "```\n",
    "\n",
    "\n",
    "En esta caso particular se emplea la utilida `pydantic` que permite modelar la data correspondiente a la petición que queremos hacer y el tipo de dato que debe seguir cada campo. Ver https://fastapi.tiangolo.com/tutorial/schema-extra-example/ \n"
   ]
  },
  {
   "cell_type": "markdown",
   "metadata": {},
   "source": [
    "```\n",
    "from fastapi import FastAPI\n",
    "from pydantic import BaseModel\n",
    "\n",
    "class Scores(BaseModel):\n",
    "    name: str\n",
    "    math_score: float\n",
    "    literature_score: float\n",
    "    chemistry_score: float\n",
    "    geography_score: float\n",
    "\n",
    "\n",
    "app = FastAPI()\n",
    "\n",
    "@app.post(\"/gpa/\")\n",
    "async def average_score(scores: Scores) -> dict:\n",
    "    \"\"\"\n",
    "    Calcula el promedio de calificaciones del alumno\n",
    "    \"\"\"\n",
    "\n",
    "    GPA = (scores.math_score+scores.literature_score+scores.chemistry_score+scores.geography_score)/4.0\n",
    "\n",
    "    result = 'No Aprobado'\n",
    "    if GPA > 6:\n",
    "        result = 'Aprobado'\n",
    "\n",
    "    return {\"messages\": f\"Estudiante {scores.name} ha sido {result} con promedio {GPA}\"}\n",
    "```"
   ]
  },
  {
   "cell_type": "markdown",
   "metadata": {},
   "source": [
    "Para ejecutar la acción post anterior enviando un conjunto particular de datos podemos emplear el código:"
   ]
  },
  {
   "cell_type": "code",
   "execution_count": null,
   "metadata": {},
   "outputs": [],
   "source": [
    "import requests\n",
    "\n",
    "# Ruta a la que haremos el post\n",
    "url = \"http://127.0.0.1:8000/gpa/\"\n",
    "\n",
    "# Calificaciones del estudiante Carlos Vila\n",
    "data = {\n",
    "    \"name\": \"Carlos Villa\",\n",
    "    \"math_score\": 7,\n",
    "    \"literature_score\": 9.1,\n",
    "    \"chemistry_score\": 5,\n",
    "    \"geography_score\": 6\n",
    "    }\n",
    "\n",
    "response = requests.post(url, data=data)\n",
    "\n",
    "print(response.text)\n"
   ]
  },
  {
   "cell_type": "markdown",
   "metadata": {},
   "source": [
    "## Ejemplo 4: Subiendo un archivo a un directorio con POST\n",
    "\n",
    "FastAPI también permite operaciones más complejo con acciones POST como subir archivos que se encuentren desde el lado del cliente hacia la computadora donde se encuentre montado el servidor web.\n",
    "\n",
    "El script `api_example_4.py` permite enviar un archivo mediante un acción `POST /v1/upload` copiando el archivo en la carpeta `/temp` del directorio en donde corrar el servicio web."
   ]
  },
  {
   "cell_type": "markdown",
   "metadata": {},
   "source": [
    "```\n",
    "import os\n",
    "from fastapi import FastAPI, UploadFile\n",
    "\n",
    "app = FastAPI()\n",
    "\n",
    "@app.post(\"/v1/upload\")\n",
    "async def upload_file(file: UploadFile):\n",
    "    \"\"\"\n",
    "    Ayuda a subir un archivo desde POST\n",
    "    \"\"\"\n",
    "    # Obtiene el nombre del archivo\n",
    "    filename = file.filename\n",
    "\n",
    "    # Lee el contenido del archivo\n",
    "    file_content = await file.read()\n",
    "\n",
    "    # Se asegura que exista la carpeta /tmp\n",
    "    # en el directorio de trabajo\n",
    "    if not os.path.exists(\"./tmp\"):\n",
    "        os.makedirs(\"./tmp\")\n",
    "\n",
    "    # escribe una \n",
    "    with open('./tmp/' + \"copy_\"+filename, \"wb\") as f:\n",
    "        f.write(file_content)\n",
    "\n",
    "    return {\"message\": \"Copia del archivo subida en folder ./tmp\"}\n",
    "```"
   ]
  },
  {
   "cell_type": "markdown",
   "metadata": {},
   "source": [
    "Para probarlo, asegurese de que la aplicación anterior está corriendo y que el archivo `cuento.pdf` se encuentra presente en el directorio de trabajo."
   ]
  },
  {
   "cell_type": "code",
   "execution_count": 15,
   "metadata": {},
   "outputs": [
    {
     "name": "stdout",
     "output_type": "stream",
     "text": [
      "File uploaded successfully\n"
     ]
    }
   ],
   "source": [
    "import requests\n",
    "\n",
    "url = \"http://localhost:8000/v1/upload\"\n",
    "\n",
    "file_name = \"cuento.pdf\"\n",
    "\n",
    "with open(file_name, \"rb\") as f:\n",
    "    response = requests.post(url, files={\"file\": f})\n",
    "\n",
    "if response.status_code == 200:\n",
    "    print(\"File uploaded successfully\")\n",
    "else:\n",
    "    print(\"Error uploading file\")"
   ]
  },
  {
   "cell_type": "markdown",
   "metadata": {},
   "source": [
    "**Preguntas:**\n",
    "\n",
    "* Revise el contenido de la carpeta `/tmp`:\n",
    "    * ¿qué hay dentro?\n",
    "    * ¿ha cambiando algo en el archivo encontrado?\n",
    "  \n",
    "* Repita el proceso con otro tipos de archivos como extensiones .txt y .html, ¿afecta en algo el formato del archivo?"
   ]
  },
  {
   "cell_type": "markdown",
   "metadata": {},
   "source": [
    "## 3. Entregables\n",
    "\n",
    "En esta sección se describen los entregables relativos a FastAPI, un script en Python que permita crear el prototipo de un API para intercambiar información de texto con ChatGPT y generar ciertas consultas de intéres. Para ello se deberá crear las cuentas de plataforma y generar el API Key correspondiente (**NO SE DEBE INCLUIR LA API KEY**, revise https://help.openai.com/en/articles/5112595-best-practices-for-api-key-safety para ver como invocarle como variable de ambiente desde Python).\n",
    "\n",
    "\n",
    "A. Diseña un API desde el framework FastAPI (denominado `fastapi_chatgpt.py`)de forma que:\n",
    "\n",
    "    1) Deberá ser capaz de recibir peticiones tipo POST que acepten a) instrucciones en texto para chaGPT y b) fragmentos de texto que ChatGPT debe analizar\n",
    "\n",
    "    2) La acción anterior deberá retornar la respuesta de ChatGPT correspondiente a la instrucción dada en el prompt en el idioma español.\n",
    "\n",
    "**Ejemplo**\n",
    "```\n",
    "Indicacion: <Indicaciones del prompt empleado>. El texto que deberás analizar es el siguiente: <texto a analizar>\n",
    "\n",
    "ChatGPT: Respuesta\n",
    "```\n",
    "\n",
    "Adicionalmente se deberá adjuntar capturar de pantalla en formato .png donde se aprecia el cuerpo de las conversaciones generadas por los ChatBots, se pueden usar numeraciones sucesivas sin son muchas fotos, ejemplo: evidencia_1_conversacion_i.png, evidencia_2_conversacion_i.png, ..., evidencia_5_conversacion_i.png\n",
    "\n",
    "B. Se deberá adjunta un video en formato .mp4 en el que se pruebe mediante requests de Python se aprecie el funcionamiento del programa para obtener la respuesta que el API anterior al solicitar un resumen a manera de 5 bullets del contenido del archivo `news_el_economista.txt` en el idioma inglés."
   ]
  }
 ],
 "metadata": {
  "kernelspec": {
   "display_name": "pdfgpt",
   "language": "python",
   "name": "python3"
  },
  "language_info": {
   "codemirror_mode": {
    "name": "ipython",
    "version": 3
   },
   "file_extension": ".py",
   "mimetype": "text/x-python",
   "name": "python",
   "nbconvert_exporter": "python",
   "pygments_lexer": "ipython3",
   "version": "3.9.1"
  },
  "orig_nbformat": 4
 },
 "nbformat": 4,
 "nbformat_minor": 2
}

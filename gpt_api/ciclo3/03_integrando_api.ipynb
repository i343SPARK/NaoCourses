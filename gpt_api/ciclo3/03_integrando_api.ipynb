{
 "cells": [
  {
   "cell_type": "markdown",
   "metadata": {},
   "source": [
    "![title](./images/logo_nao_digital.png)"
   ]
  },
  {
   "cell_type": "markdown",
   "metadata": {},
   "source": [
    "# 3. Desarrollando una interfaz de CueBot con FastAPI y ChatGPT\n",
    "\n",
    "## 1. Objetivo\n",
    "\n",
    "Este último reporte tiene por objeto presentar a la herramienta Gradio de Python, como un alternativa sencilla para hacer prototipos de interfaces interactivas de conversación en texto.\n",
    "\n",
    "La idea es que Gradio pueda ser una herramienta que permita realizar el MVP de como podría ser la interfaz del CueBot para analizar textos del acervo cultural de la universidad de Cuévano.\n",
    "\n"
   ]
  },
  {
   "cell_type": "markdown",
   "metadata": {},
   "source": [
    "## 2. Prototipando aplicaciones con Gradio\n",
    "\n",
    "Uno de los cuellos de botella que existe en el desarollo de software en el intricado proceso que supone desarollar una aplicación para su uso ante personas comunes y corrientes, sobretodo por el trabajo de diseño de una interfaz y todo conocimiento necesario para su despligue.\n",
    "\n",
    "Afortunadamente, en el desarrollo de aplicaciones de inteligencia artificial y modelos de Machine Learning existen herramientas que facilitan la construción de interfaces de usuario interactivas y amigables. Entre ellas se encuentra [Gradio](https://www.gradio.app)\n",
    "que es un libreria de Python que tiene un sintaxis sencilla pero poderosa para crear tales interfaces.\n",
    "\n",
    "En este sentido, Gradio es una libreria que provee funcionalidades para desarrollar interfaces interactivas, recibir datos de entrada y entregar datos de salida como resultado de su procesamiento. Dentro de éstas se encuentran interfaces y componentes que permiten:\n",
    "\n",
    "A. Crear menús interactivos que reciben entradas de diferentes formatos (texto, imagenes, archivos .pdf, etcétera),\n",
    "B. Devolver datos procesados en los formatos señalados previamente y renderizar imágenes,\n",
    "C. Cargar archivos de texto, imágenes, .pdf's y otros a una aplicación,\n",
    "D. Crear ChatBots que procesar un texto de entrada y devolver una respuesta procesada.\n"
   ]
  },
  {
   "cell_type": "markdown",
   "metadata": {},
   "source": [
    "\n",
    "## 2.1 Principios generales de Gradio\n",
    "\n",
    "En Gradio existen dos tipos de herramientas:\n",
    "\n",
    "1. *Demos de construccion (Building Demos):* se trata de interfaces de usuario que está consolidadas para una tarea, por ejemplo, la interfaz de un ChatBot o una que permite hacer bloques para distribuir una aplicación. En general, para éstas se debe especificar tres parámetros: (1) la función para crear la interfaz gráfica, (2) los componentes de entrada deseados y (3) los componentes de salida deseados. Parte de su flexibilidad es que se pueden usar parámetros adicionales para controlar la apariencia y el comportamiento de la demostración. Véase https://www.gradio.app/docs/interface\n",
    "\n",
    "2. *Componentes:* en este caso se trata de componentes prediseñados que se pueden utilizar como entradas o salidas en su interfaz o bloques con una sola línea de código. Tales componentes puede procesar los datos de entrada que reciben de los usuarios en la interfaz de la aplicación (mediante el procesamiento de una función de Python) y devolverlos a una salida que se puede mostrar de vuelta, por ejemplo, un botón que será accionado, un cuadro de checks o un apartado para subir un archivo. Véase https://www.gradio.app/docs/components\n",
    "\n",
    "\n",
    "## 2.2 Ejemplos con Gradio\n"
   ]
  },
  {
   "cell_type": "markdown",
   "metadata": {},
   "source": [
    "### 2.2.1 Creando texto en reversa\n",
    "\n",
    "Para ejemplificar lo anterior, presentamos al programa `gradio_example_1.py`, que crea una interfaz que 1) recibe una oración de un cuadro de texto, 2) procesa la oración hasta obtener una versión al revés del texto, y 3) devuelve un cuadro con el texto invertido."
   ]
  },
  {
   "cell_type": "markdown",
   "metadata": {},
   "source": [
    "```\n",
    "import gradio as gr\n",
    "import time\n",
    "\n",
    "\n",
    "def reversing_word(palabra):\n",
    "    \"\"\"\n",
    "    Procesa la oracion o texto contenido en palabra para crear\n",
    "    una version al reves de una palabra\n",
    "    \"\"\"\n",
    "    time.sleep(1)\n",
    "\n",
    "    new_string = \"\"\n",
    "\n",
    "    for letra in palabra:\n",
    "        new_string = letra + new_string\n",
    "\n",
    "    return new_string\n",
    "\n",
    "\n",
    "# Interfaz de la aplicacion\n",
    "demo = gr.Interface(\n",
    "    fn=reversing_word,\n",
    "    inputs=gr.Text(),\n",
    "    outputs=gr.Text()\n",
    "    )\n",
    "\n",
    "# Despliegue de aplicacion\n",
    "demo.launch()\n",
    "```\n",
    "\n",
    "\n",
    "Para correr dicha aplicación tendremos que instalar la libreria gradio\n",
    "\n",
    "```\n",
    "pip install gradio\n",
    "```\n",
    "\n",
    "La aplicación se activa con el comando siguiente:\n",
    "\n",
    "```\n",
    "gradio gradio_example_1.py  \n",
    "```\n",
    "\n",
    "El comando anterior hace el despligue de la interfaz del programa en la ruta `http://127.0.0.1:7861`. En la imagen inferior se muestra la interfaz de la aplicación y el resultado de introducir el texto `Ornitorrinco`:\n",
    "\n",
    "\n",
    "![title](./images/gradio_1.png)\n",
    "\n",
    "**Nota:** para desactivar la aplicación presiona la combinación de teclas `CTRL+C` o cierra la terminal donde corre el programa\n",
    "\n",
    "Algunos puntos a señalar al respecto del ejemplo anterior: 1) la aplicación emplear del Demo de construcción para construir la interfaz general de aplicación `Interface(..)`, 2) la aplicación recibe inputs de texto y entrega outputs de texto usando el componente `Text(...)` que no es más que un cuadro de texto interactivo y 3) el procesamiento del texto de entrada es realizado por la función `reversing_word`\n",
    "\n",
    "\n"
   ]
  },
  {
   "cell_type": "markdown",
   "metadata": {},
   "source": [
    "### 2.2.2 Creando un primer ChatBot\n",
    "\n",
    "Una de las funcionalidades más importantes de Gradio es que posee un Demo de construcción para un ChatBot, que se puede desplegar con muy pocas lineas de código. En el archivo `gradio_example_2.py` se implementó un ChatBot que devuelve una respuesta dependiente del mensaje que reciba: 1) en caso de recibir el texto \"hello\", responderá un saludo en inglés, 2) si recibe el texto \"hola\", responderá un saludo en español, y 3) en otro caso responderá una frase de una película animada: \n",
    "\n",
    "```\n",
    "import gradio as gr\n",
    "\n",
    "\n",
    "def echo(message, history):\n",
    "    \"\"\"\n",
    "    Devuelve una respuesta personalizada segun\n",
    "    el mensaje\n",
    "    \"\"\"\n",
    "    if message.lower() == \"hello\":\n",
    "        return \"Hi my friend!\"\n",
    "    elif message.lower() == \"hola\":\n",
    "        return \"Hola mi amigo\"\n",
    "    else:\n",
    "        return \"Hay una serpiente en mi bota\"\n",
    "\n",
    "\n",
    "# Interfaz de la aplicacion del chatbot\n",
    "demo = gr.ChatInterface(\n",
    "    # funcion de procesamiento de respuesta\n",
    "    fn=echo,\n",
    "    # Ayuda a mostrar respuestas de ejemplo\n",
    "    examples=[\"hello\", \"hola\"],\n",
    "    # Titulo de la interfaz\n",
    "    title=\"Mi primer ChatBot en Gradio!!!\"\n",
    "    )\n",
    "\n",
    "# Despliga el app\n",
    "demo.launch()\n",
    "```\n",
    "\n",
    "La interfaz implementada se muestra a continuación:\n",
    "\n",
    "![title](./images/gradio_2.png)"
   ]
  },
  {
   "cell_type": "markdown",
   "metadata": {},
   "source": [
    "### 2.2.3 Subiendo archivos a la aplicación\n",
    "\n",
    "Otro de los componentes interesantes son `File` y `UploadButton` como su nombre lo indica, brinda la posibildad de crear elementos que manejen archivos y transmitan su contenido a la aplicación. Un ejemplo de ello se encuentra en el programa `gradio_example_3.py`.\n",
    "\n",
    "**Preguntas:**\n",
    "\n",
    "Activa la aplicación del programa `gradio_example_3.py` y use el menú para subir un archivo (puede ser un archivo png, un video o bién un .pdf).\n",
    "\n",
    "* ¿Después de subir el archivo, que mensaje se muestra en la terminal?,\n",
    "* ¿Qué significa el directorio que se imprime como resultado del proceso anterior?\n",
    "* ¿Pará que puede servir el proceso anterior en el diseño del CueBot?\n"
   ]
  },
  {
   "cell_type": "markdown",
   "metadata": {},
   "source": [
    "## 3. Entregables\n",
    "\n",
    "El equipo de Tecnologías de la Información de la Universidad de Cuévano, considera que Gradio es una gran herramienta para poder prototipar aplicaciones de ChatBot en muy poco tiempo. En este sentido, Daniela ha propuesto a Esmeralda reutilizar el código de un proyecto previo para poder prototipar una interfaz de conversación para el CueBot. Este programa, correspondiente al archivo `gradio_example_4.py`, es capaz de realizar las siguientes funciones:\n",
    "\n",
    "* I. Despliega un ChatBot que genera respuestas aleatorias predeterminadas,\n",
    "* II. Dentro de su interfaz, existe un botón que permite leer texto subido desde un archivo .pdf,\n",
    "* III. El texto del archivo, se puede comunicar a la implementación del ChatBot de forma que puede ser retomado por el ChatBot para ser procesado y generar una respuesta.\n",
    "\n",
    "Considerando lo anterior, los entregables de esta sección son:\n",
    "\n",
    "A. Diseña un API desde el framework FastAPI (en un archivo `api_cuebot_chatgpt.py`) de forma que:\n",
    "\n",
    "    1) Deberá ser capaz de recibir peticiones tipo POST que acepten a) instrucciones en texto para chaGPT y b) fragmentos de texto que ChatGPT debe analizar\n",
    "\n",
    "    2) La acción anterior deberá retornar la respuesta de ChatGPT correspondiente a la instrucción dada en el prompt en el idioma español.\n",
    "\n",
    "**Pista:** ¿Que hace la variable `CORPUS_TEXT`?, ¿Qué sucede con dicha variable al subir un texto en formato `.pdf`?, ¿Qué pasa cuando introduces la palabra `cuento` al chat y en que parte de código se controla dicha acción?\n",
    "\n",
    "B. Modifica el archivo `gradio_example_4.py` para crear el prototipo del CueBot (cuebot_gpt.py) para que al subir en su interfaz un archivo en `.pdf`, el referido texto se pueda comunicar al API desplegada del archivo `api_cuebot_chatgpt.py` y pueda contestar preguntas en la interfaz del chat.\n",
    "\n",
    "C. Se deberá adjunta un video en formato .mp4 en el que se aprecie el funcionamiento de CueBot para el texto del documento `principito.pdf`, contestando las siguientes preguntas:\n",
    "\n",
    "    * ¿Qué personajes aparecen en el texto?\n",
    "    * ¿Qué método de evasión usó el personaje que se menciona en la historia?\n",
    "    * ¿Porqué razón la flor no quería que el personaje la viese llorar?\n",
    "\n",
    "\n",
    "\n"
   ]
  }
 ],
 "metadata": {
  "kernelspec": {
   "display_name": "pdfgpt",
   "language": "python",
   "name": "python3"
  },
  "language_info": {
   "codemirror_mode": {
    "name": "ipython",
    "version": 3
   },
   "file_extension": ".py",
   "mimetype": "text/x-python",
   "name": "python",
   "nbconvert_exporter": "python",
   "pygments_lexer": "ipython3",
   "version": "3.9.1"
  },
  "orig_nbformat": 4
 },
 "nbformat": 4,
 "nbformat_minor": 2
}
